{
 "cells": [
  {
   "cell_type": "markdown",
   "id": "f0a0e4ae-d7ce-412a-bf79-2a0dd1c5d1d2",
   "metadata": {},
   "source": [
    "# Listing all the unique IDs\n",
    "\n",
    "Run to execute. Use Restart to run again.\n",
    "\n",
    "You'll be asked to select an Excel file that contains the mapping and configuration. Use the same one as used for Remapping Datasets."
   ]
  },
  {
   "cell_type": "code",
   "execution_count": null,
   "id": "0dc7287d-4e36-4916-87bf-4bd6449cba4f",
   "metadata": {
    "tags": []
   },
   "outputs": [],
   "source": [
    "# Run to execute, use Restart to run again\n",
    "import json\n",
    "import os\n",
    "import pandas as pd\n",
    "from datetime import datetime\n",
    "import generic_functions2 as gf"
   ]
  },
  {
   "cell_type": "code",
   "execution_count": null,
   "id": "a6cc56eb-f8e3-4ad7-a0f5-ca01b310b716",
   "metadata": {
    "tags": []
   },
   "outputs": [],
   "source": [
    "# select the conversion.xslx\n",
    "folder = './'\n",
    "print('\\n'*2)\n",
    "gf.print_title('Select the Excel containing all the configuration & mapping')\n",
    "conversion_excel = gf.choose_dir_item(folder,'files', 'xlsx')\n",
    "print('\\n'*2)\n",
    "gf.print_title('Processing, please relax and maybe grab a cup of coffee/tea ....')"
   ]
  },
  {
   "cell_type": "code",
   "execution_count": null,
   "id": "fb5e3b63-fbda-4ba7-908d-8e8e5e395ac3",
   "metadata": {
    "tags": []
   },
   "outputs": [],
   "source": [
    "sheet_name='Settings'\n",
    "settings_table = pd.read_excel(conversion_excel, sheet_name=sheet_name, index_col='Item')\n",
    "\n",
    "# read settings\n",
    "source_dir = settings_table.loc[\"source_dir\"][\"Variable\"]\n",
    "converted_dir = settings_table.loc[\"converted_dir\"][\"Variable\"]\n",
    "source_file = settings_table.loc[\"source_filename\"][\"Variable\"]\n",
    "source_separator = settings_table.loc[\"source_separator\"][\"Variable\"]\n",
    "converted_file = settings_table.loc[\"converted_filename\"][\"Variable\"]\n",
    "converted_separator = settings_table.loc[\"converted_separator\"][\"Variable\"]\n",
    "id_variable = settings_table.loc[\"id_variable\"][\"Variable\"]\n",
    "\n",
    "# read data\n",
    "df = pd.read_csv(source_dir + '/' + source_file, index_col=None, low_memory=False, dtype=\"string\")"
   ]
  },
  {
   "cell_type": "code",
   "execution_count": null,
   "id": "229b2f50-68df-4b2b-851e-cdfe78e7dbcd",
   "metadata": {
    "tags": []
   },
   "outputs": [],
   "source": [
    "df_unique_ids = pd.DataFrame({'UniqueIDs': df[id_variable].unique()})\n",
    "df_all_variables = pd.DataFrame(df.columns, columns=['All_Variables'])"
   ]
  },
  {
   "cell_type": "code",
   "execution_count": null,
   "id": "ad2bab13-5adc-439a-a646-34f3ec875eec",
   "metadata": {
    "tags": []
   },
   "outputs": [],
   "source": [
    "stamp = f'{datetime.now():%Y%m%d-%H%M%S}'\n",
    "# not always there will be ids\n",
    "try:\n",
    "    file_name = source_dir + f\"/{stamp}_\" + converted_file + '_UNIQUE_IDS'\n",
    "    df_unique_ids.to_csv(file_name + \".csv\", sep=converted_separator, index=False)\n",
    "except:\n",
    "    pass\n",
    "\n",
    "# not always there will be variables\n",
    "try:\n",
    "    file_name = source_dir + f\"/{stamp}_\" + converted_file + '_ALL_VARIABLES'\n",
    "    df_all_variables.to_csv(file_name + \".csv\", sep=converted_separator, index=False)\n",
    "except:\n",
    "    pass\n",
    "\n",
    "input('Enter to continue....')\n",
    "print('\\n'*2)\n",
    "gf.print_title(\n",
    "    f\"All done, the output (CSV and Excel) can be found timestamped in: {source_dir}\"\n",
    ")"
   ]
  }
 ],
 "metadata": {
  "kernelspec": {
   "display_name": "Python 3 (ipykernel)",
   "language": "python",
   "name": "python3"
  },
  "language_info": {
   "codemirror_mode": {
    "name": "ipython",
    "version": 3
   },
   "file_extension": ".py",
   "mimetype": "text/x-python",
   "name": "python",
   "nbconvert_exporter": "python",
   "pygments_lexer": "ipython3",
   "version": "3.8.11"
  }
 },
 "nbformat": 4,
 "nbformat_minor": 5
}
